{
 "cells": [
  {
   "cell_type": "code",
   "execution_count": 42,
   "metadata": {},
   "outputs": [],
   "source": [
    "import numpy as np\n",
    "\n",
    "\n",
    "\n",
    "def compute_C(dims):\n",
    "    C=np.zeros(2*[len(dims)-1])\n",
    "\n",
    "    def get_c_ij(i,j,C,dims):\n",
    "        c_ij=float(\"inf\")\n",
    "        if i==j:\n",
    "            return 0\n",
    "        for k in range(i,j):\n",
    "            c_ij=min(c_ij,C[i,k]+C[k+1,j]+2*dims[i]*dims[k+1]*dims[j+1])\n",
    "        return c_ij\n",
    "\n",
    "    for j in range(1,len(dims)-1):\n",
    "        for i in reversed(range(j)):\n",
    "            C[i,j]=get_c_ij(i,j,C,dims)\n",
    "\n",
    "\n",
    "    return C"
   ]
  },
  {
   "cell_type": "code",
   "execution_count": 66,
   "metadata": {},
   "outputs": [],
   "source": [
    "def latex_print(C):\n",
    "    print(\"$$\\\\begin{matrix}\")\n",
    "    for i in range(C.shape[0]):\n",
    "        print(\"& \"*i,end=\"\")\n",
    "        for j in range(i, C.shape[1]):\n",
    "            if int(C[i,j])==0:\n",
    "                print(\"0\",end=\"&\")\n",
    "            else:\n",
    "                exp=int(np.log10(C[i,j]))\n",
    "                print(\"{:.2f}\\\\cdot 10^{{{}}}\".format(C[i,j]/10**exp,exp),end=\"&\")\n",
    "                # print(\"{:e}\".format(int(C[i,j])),end=\"&\")\n",
    "        print(\"\\\\\\\\\")\n",
    "    print(\"\\\\end{matrix}$$\")"
   ]
  },
  {
   "cell_type": "code",
   "execution_count": 67,
   "metadata": {},
   "outputs": [
    {
     "name": "stdout",
     "output_type": "stream",
     "text": [
      "$$\\begin{matrix}\n",
      "0&1.00\\cdot 10^{10}&1.20\\cdot 10^{10}&1.21\\cdot 10^{9}&\\\\\n",
      "& 0&1.00\\cdot 10^{11}&1.20\\cdot 10^{9}&\\\\\n",
      "& & 0&2.00\\cdot 10^{8}&\\\\\n",
      "& & & 0&\\\\\n",
      "\\end{matrix}$$\n",
      "None\n"
     ]
    }
   ],
   "source": [
    "dims=[100,5000,10000,1000,10]\n",
    "print(latex_print(compute_C(dims)))"
   ]
  },
  {
   "cell_type": "code",
   "execution_count": 68,
   "metadata": {},
   "outputs": [
    {
     "name": "stdout",
     "output_type": "stream",
     "text": [
      "$$\\begin{matrix}\n",
      "0&1.00\\cdot 10^{10}&1.20\\cdot 10^{10}&\\\\\n",
      "& 0&1.00\\cdot 10^{11}&\\\\\n",
      "& & 0&\\\\\n",
      "\\end{matrix}$$\n"
     ]
    }
   ],
   "source": [
    "dims=[100,5000,10000,1000]\n",
    "latex_print(compute_C(dims))"
   ]
  },
  {
   "cell_type": "code",
   "execution_count": null,
   "metadata": {},
   "outputs": [],
   "source": []
  }
 ],
 "metadata": {
  "kernelspec": {
   "display_name": "Python 3.9.12 ('base')",
   "language": "python",
   "name": "python3"
  },
  "language_info": {
   "codemirror_mode": {
    "name": "ipython",
    "version": 3
   },
   "file_extension": ".py",
   "mimetype": "text/x-python",
   "name": "python",
   "nbconvert_exporter": "python",
   "pygments_lexer": "ipython3",
   "version": "3.9.12"
  },
  "orig_nbformat": 4,
  "vscode": {
   "interpreter": {
    "hash": "19e89d5353d4146e62317e49268a945e919fb3369eb7ce1f38db2346a403f5a4"
   }
  }
 },
 "nbformat": 4,
 "nbformat_minor": 2
}
